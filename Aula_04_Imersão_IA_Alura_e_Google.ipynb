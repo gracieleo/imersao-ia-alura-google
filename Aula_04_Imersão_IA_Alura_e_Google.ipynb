{
  "nbformat": 4,
  "nbformat_minor": 0,
  "metadata": {
    "colab": {
      "provenance": [],
      "authorship_tag": "ABX9TyMFt0iXXTInuh6B3imPRmkQ",
      "include_colab_link": true
    },
    "kernelspec": {
      "name": "python3",
      "display_name": "Python 3"
    },
    "language_info": {
      "name": "python"
    }
  },
  "cells": [
    {
      "cell_type": "markdown",
      "metadata": {
        "id": "view-in-github",
        "colab_type": "text"
      },
      "source": [
        "<a href=\"https://colab.research.google.com/github/gracieleo/imersao-ia-alura-google/blob/master/Aula_04_Imers%C3%A3o_IA_Alura_e_Google.ipynb\" target=\"_parent\"><img src=\"https://colab.research.google.com/assets/colab-badge.svg\" alt=\"Open In Colab\"/></a>"
      ]
    },
    {
      "cell_type": "markdown",
      "source": [
        "### Instalação do SDK Google"
      ],
      "metadata": {
        "id": "2PRqHuWV8xDN"
      }
    },
    {
      "cell_type": "code",
      "source": [
        "!pip install -q -U google-generativeai"
      ],
      "metadata": {
        "id": "OOu9Xzoe82cB"
      },
      "execution_count": 19,
      "outputs": []
    },
    {
      "cell_type": "markdown",
      "source": [
        "### Configurações da API Key\n"
      ],
      "metadata": {
        "id": "kvvNhvkv9IUc"
      }
    },
    {
      "cell_type": "code",
      "source": [
        "# Import the Python SDK\n",
        "import google.generativeai as genai\n",
        "from google.colab import userdata\n",
        "\n",
        "API_KEY = userdata.get('SECRET_KEY')\n",
        "genai.configure(api_key=API_KEY)"
      ],
      "metadata": {
        "id": "gC7ZIYu_9NJ6"
      },
      "execution_count": 20,
      "outputs": []
    },
    {
      "cell_type": "markdown",
      "source": [
        "### Generative Model - Listar os modelos disponiveis                   \n",
        "\n",
        "exemplos em 05.2024\n",
        "\n",
        "*   models/gemini-1.0-pro\n",
        "*   models/gemini-1.0-pro-001\n",
        "*   models/gemini-1.0-pro-latest\n",
        "*   models/gemini-1.0-pro-vision-latest\n",
        "*   models/gemini-1.5-pro-latest\n",
        "*   models/gemini-pro\n",
        "*   models/gemini-pro-vision"
      ],
      "metadata": {
        "id": "rAccHMon9bK7"
      }
    },
    {
      "cell_type": "code",
      "source": [
        "for m in genai.list_models():\n",
        "  if 'generateContent' in m.supported_generation_methods:\n",
        "    print(m.name)"
      ],
      "metadata": {
        "colab": {
          "base_uri": "https://localhost:8080/",
          "height": 139
        },
        "id": "ScpsqkgA9geB",
        "outputId": "32ed4e33-d7f0-45f2-cc11-7d37cbf01d78"
      },
      "execution_count": 21,
      "outputs": [
        {
          "output_type": "stream",
          "name": "stdout",
          "text": [
            "models/gemini-1.0-pro\n",
            "models/gemini-1.0-pro-001\n",
            "models/gemini-1.0-pro-latest\n",
            "models/gemini-1.0-pro-vision-latest\n",
            "models/gemini-1.5-pro-latest\n",
            "models/gemini-pro\n",
            "models/gemini-pro-vision\n"
          ]
        }
      ]
    },
    {
      "cell_type": "markdown",
      "source": [
        "### Configurações Gerais\n",
        "\n",
        "ordem dos parametros não influencia"
      ],
      "metadata": {
        "id": "VD3uaLIhCYF9"
      }
    },
    {
      "cell_type": "code",
      "source": [
        "generation_config = {\n",
        "  \"candidate_count\": 1,\n",
        "  \"temperature\": 0.5,\n",
        "}"
      ],
      "metadata": {
        "id": "qi9-vKFPCb4l"
      },
      "execution_count": 22,
      "outputs": []
    },
    {
      "cell_type": "markdown",
      "source": [
        "### Configurações de Segurança\n",
        "\n",
        "* BLOCK_NONE | FEW | SOME ou MOST\n",
        "* Já vem configuradas por padrão (BLOCK_SOME), não precisaria ajusta-las"
      ],
      "metadata": {
        "id": "lxPmvsFgD5U7"
      }
    },
    {
      "cell_type": "code",
      "source": [
        "safety_settings = {\n",
        "    \"HARASSMENT\": \"BLOCK_NONE\",\n",
        "    \"HATE\":\"BLOCK_NONE\",\n",
        "    \"SEXUAL\": \"BLOCK_NONE\",\n",
        "    \"DANGEROUS\": \"BLOCK_NONE\",\n",
        "  }"
      ],
      "metadata": {
        "id": "xSeTPQ6YD8_1"
      },
      "execution_count": 23,
      "outputs": []
    },
    {
      "cell_type": "markdown",
      "source": [
        "### Inicializando o Modelo\n",
        "\n",
        "* model_name => qual dos modelos dispoveis vai usar\n",
        "* generation_config => nome da var definida anteriormente\n",
        "* safety_settings => nome da var definida anteriormente"
      ],
      "metadata": {
        "id": "EUIbK8yrG6DY"
      }
    },
    {
      "cell_type": "code",
      "source": [
        "model = genai.GenerativeModel(model_name = \"gemini-1.0-pro\",\n",
        "                              generation_config = generation_config,\n",
        "                              safety_settings = safety_settings)"
      ],
      "metadata": {
        "id": "MsfIUMrLG9us"
      },
      "execution_count": 24,
      "outputs": []
    },
    {
      "cell_type": "markdown",
      "source": [
        "### Gerando o conteúdo"
      ],
      "metadata": {
        "id": "oBrKYmtGI4Rf"
      }
    },
    {
      "cell_type": "code",
      "source": [
        "response = model.generate_content(\"Vamos aprender conteúdo sobre IA. Mê de sugestões!\")\n",
        "print(response.text)"
      ],
      "metadata": {
        "colab": {
          "base_uri": "https://localhost:8080/",
          "height": 798
        },
        "id": "HSPwzyNII68m",
        "outputId": "2fe214dc-7ead-4811-83d4-fe9b945123f1"
      },
      "execution_count": 25,
      "outputs": [
        {
          "output_type": "stream",
          "name": "stdout",
          "text": [
            "**Livros:**\n",
            "\n",
            "* **Inteligência Artificial: Uma Moderna Abordagem** por Stuart Russell e Peter Norvig\n",
            "* **Aprendizado de Máquina** por Tom Mitchell\n",
            "* **Aprendizado Profundo** por Ian Goodfellow, Yoshua Bengio e Aaron Courville\n",
            "* **Processamento de Linguagem Natural** por Daniel Jurafsky e James H. Martin\n",
            "* **Visão Computacional** por David A. Forsyth e Jean Ponce\n",
            "\n",
            "**Cursos Online:**\n",
            "\n",
            "* **Coursera:**\n",
            "    * Aprendizado de Máquina Especialização\n",
            "    * Visão Computacional Especialização\n",
            "    * Processamento de Linguagem Natural Especialização\n",
            "* **edX:**\n",
            "    * Inteligência Artificial (MIT)\n",
            "    * Aprendizado de Máquina (UC Berkeley)\n",
            "    * Visão Computacional (Georgia Tech)\n",
            "* **Udemy:**\n",
            "    * Curso Completo de Inteligência Artificial\n",
            "    * Curso Completo de Aprendizado de Máquina\n",
            "    * Curso Completo de Visão Computacional\n",
            "\n",
            "**Artigos de Pesquisa:**\n",
            "\n",
            "* **Deep Learning** por Yoshua Bengio, Geoffrey Hinton e Yann LeCun\n",
            "* **Attention Is All You Need** por Ashish Vaswani et al.\n",
            "* **Generative Adversarial Networks** por Ian Goodfellow et al.\n",
            "* **Transformer: Um Modelo de Atenção para Tradução de Linguagem Neural** por Vaswani et al.\n",
            "* **BERT: Pré-treinamento de Representações de Linguagem Bidirecionais** por Jacob Devlin et al.\n",
            "\n",
            "**Blogs e Sites:**\n",
            "\n",
            "* **Towards Data Science**\n",
            "* **Machine Learning Mastery**\n",
            "* **DeepMind**\n",
            "* **OpenAI**\n",
            "* **Google AI**\n",
            "\n",
            "**Recursos Adicionais:**\n",
            "\n",
            "* **Glossário de IA**\n",
            "* **Mapa de IA**\n",
            "* **Comunidades de IA** (por exemplo, Reddit, Discord, Slack)\n",
            "* **Conferências de IA** (por exemplo, NeurIPS, ICML, CVPR)\n"
          ]
        }
      ]
    },
    {
      "cell_type": "markdown",
      "source": [
        "### Criação de um chatbot"
      ],
      "metadata": {
        "id": "ROzdAwQNK0Jd"
      }
    },
    {
      "cell_type": "code",
      "source": [
        "chat = model.start_chat(history=[])"
      ],
      "metadata": {
        "id": "XsmNowWsK335"
      },
      "execution_count": 26,
      "outputs": []
    },
    {
      "cell_type": "code",
      "source": [
        "prompt = input(\"Digite uma pergunta ou comando: \")\n",
        "\n",
        "while prompt != \"fim\":\n",
        "  response = chat.send_message(prompt)\n",
        "  print(\"Resposta: \", response.text, \"\\n\\n\")\n",
        "  prompt = input(\"Digite uma pergunta ou comando: \")"
      ],
      "metadata": {
        "colab": {
          "base_uri": "https://localhost:8080/",
          "height": 312
        },
        "id": "CwXRK2q1LuBD",
        "outputId": "c22cd041-8655-47ed-b1cd-407f03010f19"
      },
      "execution_count": 27,
      "outputs": [
        {
          "name": "stdout",
          "output_type": "stream",
          "text": [
            "Digite uma pergunta ou comando: Qual é a capital dos Estados Unidos?\n",
            "Resposta:  Washington, D.C. \n",
            "\n",
            "\n",
            "Digite uma pergunta ou comando: Qual é a comida tipica desse país?\n",
            "Resposta:  Hambúrguer \n",
            "\n",
            "\n",
            "Digite uma pergunta ou comando: Qual o nome da cantora mais famosa desse país?\n",
            "Resposta:  Madonna \n",
            "\n",
            "\n",
            "Digite uma pergunta ou comando: E do cantor?\n",
            "Resposta:  Elvis Presley \n",
            "\n",
            "\n",
            "Digite uma pergunta ou comando: fim\n"
          ]
        }
      ]
    },
    {
      "cell_type": "code",
      "source": [
        "chat"
      ],
      "metadata": {
        "colab": {
          "base_uri": "https://localhost:8080/"
        },
        "id": "UcclhsUWRqfQ",
        "outputId": "b422d45d-3edd-43a0-bfe7-f5fdb10c9bf1"
      },
      "execution_count": 28,
      "outputs": [
        {
          "output_type": "execute_result",
          "data": {
            "text/plain": [
              "ChatSession(\n",
              "    model=genai.GenerativeModel(\n",
              "        model_name='models/gemini-1.0-pro',\n",
              "        generation_config={'candidate_count': 1, 'temperature': 0.5},\n",
              "        safety_settings={<HarmCategory.HARM_CATEGORY_HARASSMENT: 7>: <HarmBlockThreshold.BLOCK_NONE: 4>, <HarmCategory.HARM_CATEGORY_HATE_SPEECH: 8>: <HarmBlockThreshold.BLOCK_NONE: 4>, <HarmCategory.HARM_CATEGORY_SEXUALLY_EXPLICIT: 9>: <HarmBlockThreshold.BLOCK_NONE: 4>, <HarmCategory.HARM_CATEGORY_DANGEROUS_CONTENT: 10>: <HarmBlockThreshold.BLOCK_NONE: 4>},\n",
              "        tools=None,\n",
              "        system_instruction=None,\n",
              "    ),\n",
              "    history=[glm.Content({'parts': [{'text': 'Qual é a cap...tados Unidos?'}], 'role': 'user'}), glm.Content({'parts': [{'text': 'Washington, D.C.'}], 'role': 'model'}), glm.Content({'parts': [{'text': 'Qual é a com...a desse país?'}], 'role': 'user'}), glm.Content({'parts': [{'text': 'Hambúrguer'}], 'role': 'model'}), glm.Content({'parts': [{'text': 'Qual o nome ...a desse país?'}], 'role': 'user'}), glm.Content({'parts': [{'text': 'Madonna'}], 'role': 'model'}), glm.Content({'parts': [{'text': 'E do cantor?'}], 'role': 'user'}), glm.Content({'parts': [{'text': 'Elvis Presley'}], 'role': 'model'})]\n",
              ")"
            ]
          },
          "metadata": {},
          "execution_count": 28
        }
      ]
    },
    {
      "cell_type": "code",
      "source": [
        "chat.history"
      ],
      "metadata": {
        "colab": {
          "base_uri": "https://localhost:8080/"
        },
        "id": "6AD5VwCvR1Db",
        "outputId": "ec8dcc65-348f-46f2-89cb-224b6aa4c230"
      },
      "execution_count": 29,
      "outputs": [
        {
          "output_type": "execute_result",
          "data": {
            "text/plain": [
              "[parts {\n",
              "   text: \"Qual \\303\\251 a capital dos Estados Unidos?\"\n",
              " }\n",
              " role: \"user\",\n",
              " parts {\n",
              "   text: \"Washington, D.C.\"\n",
              " }\n",
              " role: \"model\",\n",
              " parts {\n",
              "   text: \"Qual \\303\\251 a comida tipica desse pa\\303\\255s?\"\n",
              " }\n",
              " role: \"user\",\n",
              " parts {\n",
              "   text: \"Hamb\\303\\272rguer\"\n",
              " }\n",
              " role: \"model\",\n",
              " parts {\n",
              "   text: \"Qual o nome da cantora mais famosa desse pa\\303\\255s?\"\n",
              " }\n",
              " role: \"user\",\n",
              " parts {\n",
              "   text: \"Madonna\"\n",
              " }\n",
              " role: \"model\",\n",
              " parts {\n",
              "   text: \"E do cantor?\"\n",
              " }\n",
              " role: \"user\",\n",
              " parts {\n",
              "   text: \"Elvis Presley\"\n",
              " }\n",
              " role: \"model\"]"
            ]
          },
          "metadata": {},
          "execution_count": 29
        }
      ]
    },
    {
      "cell_type": "code",
      "source": [
        "#Melhorando a visualização do Chat\n",
        "#Código disponível em https://ai.google.dev/tutorials/python_quickstart#import_packages\n",
        "import textwrap\n",
        "from IPython.display import display\n",
        "from IPython.display import Markdown\n",
        "\n",
        "def to_markdown(text):\n",
        "  text = text.replace('•', '  *')\n",
        "  return Markdown(textwrap.indent(text, '> ', predicate=lambda _: True))\n",
        "\n",
        "#Imprimindo o histórico\n",
        "for message in chat.history:\n",
        "  display(to_markdown(f'**{message.role}**: {message.parts[0].text}'))\n",
        "  print('-------------------------------------------')"
      ],
      "metadata": {
        "colab": {
          "base_uri": "https://localhost:8080/",
          "height": 519
        },
        "id": "FITqWr74Swmz",
        "outputId": "e5238193-9974-404d-cd43-94050b2dbc62"
      },
      "execution_count": 30,
      "outputs": [
        {
          "output_type": "display_data",
          "data": {
            "text/plain": [
              "<IPython.core.display.Markdown object>"
            ],
            "text/markdown": "> **user**: Qual é a capital dos Estados Unidos?"
          },
          "metadata": {}
        },
        {
          "output_type": "stream",
          "name": "stdout",
          "text": [
            "-------------------------------------------\n"
          ]
        },
        {
          "output_type": "display_data",
          "data": {
            "text/plain": [
              "<IPython.core.display.Markdown object>"
            ],
            "text/markdown": "> **model**: Washington, D.C."
          },
          "metadata": {}
        },
        {
          "output_type": "stream",
          "name": "stdout",
          "text": [
            "-------------------------------------------\n"
          ]
        },
        {
          "output_type": "display_data",
          "data": {
            "text/plain": [
              "<IPython.core.display.Markdown object>"
            ],
            "text/markdown": "> **user**: Qual é a comida tipica desse país?"
          },
          "metadata": {}
        },
        {
          "output_type": "stream",
          "name": "stdout",
          "text": [
            "-------------------------------------------\n"
          ]
        },
        {
          "output_type": "display_data",
          "data": {
            "text/plain": [
              "<IPython.core.display.Markdown object>"
            ],
            "text/markdown": "> **model**: Hambúrguer"
          },
          "metadata": {}
        },
        {
          "output_type": "stream",
          "name": "stdout",
          "text": [
            "-------------------------------------------\n"
          ]
        },
        {
          "output_type": "display_data",
          "data": {
            "text/plain": [
              "<IPython.core.display.Markdown object>"
            ],
            "text/markdown": "> **user**: Qual o nome da cantora mais famosa desse país?"
          },
          "metadata": {}
        },
        {
          "output_type": "stream",
          "name": "stdout",
          "text": [
            "-------------------------------------------\n"
          ]
        },
        {
          "output_type": "display_data",
          "data": {
            "text/plain": [
              "<IPython.core.display.Markdown object>"
            ],
            "text/markdown": "> **model**: Madonna"
          },
          "metadata": {}
        },
        {
          "output_type": "stream",
          "name": "stdout",
          "text": [
            "-------------------------------------------\n"
          ]
        },
        {
          "output_type": "display_data",
          "data": {
            "text/plain": [
              "<IPython.core.display.Markdown object>"
            ],
            "text/markdown": "> **user**: E do cantor?"
          },
          "metadata": {}
        },
        {
          "output_type": "stream",
          "name": "stdout",
          "text": [
            "-------------------------------------------\n"
          ]
        },
        {
          "output_type": "display_data",
          "data": {
            "text/plain": [
              "<IPython.core.display.Markdown object>"
            ],
            "text/markdown": "> **model**: Elvis Presley"
          },
          "metadata": {}
        },
        {
          "output_type": "stream",
          "name": "stdout",
          "text": [
            "-------------------------------------------\n"
          ]
        }
      ]
    }
  ]
}